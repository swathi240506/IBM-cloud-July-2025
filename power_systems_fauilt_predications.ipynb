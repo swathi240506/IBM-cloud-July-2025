{
 "cells": [
  {
   "cell_type": "code",
   "execution_count": null,
   "id": "0a9ea467-edbd-481d-864b-3a9ec3053807",
   "metadata": {},
   "outputs": [],
   "source": []
  }
 ],
 "metadata": {
  "kernelspec": {
   "display_name": "",
   "name": ""
  },
  "language_info": {
   "name": ""
  }
 },
 "nbformat": 4,
 "nbformat_minor": 5
}
